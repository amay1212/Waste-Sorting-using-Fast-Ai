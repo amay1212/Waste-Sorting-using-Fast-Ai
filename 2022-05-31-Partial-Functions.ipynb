{
 "cells": [
  {
   "cell_type": "code",
   "execution_count": null,
   "id": "5c8d5f74",
   "metadata": {},
   "outputs": [],
   "source": [
    "# \"Partial Functions\"\n",
    "\n",
    "- author: Amay Trivedi https://github.com/amay1212"
   ]
  },
  {
   "cell_type": "markdown",
   "id": "133ad7d3",
   "metadata": {},
   "source": [
    "#### Defining Partial Functions\n",
    "\n",
    "Partial functions, as the name suggests these are functions which do not require every argument to be passed at once and freezes some portion of function's arguments. This to automate already existing code...\n",
    "\n",
    "According to the docs (https://docs.python.org/3/library/functools.html)\n",
    "\n",
    "Partial Functions Return a new partial object which when called will behave like func called with the positional arguments args and keyword arguments keywords. If more arguments are supplied to the call, they are appended to args. If additional keyword arguments are supplied, they extend and override keywords. Roughly equivalent to:\n"
   ]
  },
  {
   "cell_type": "code",
   "execution_count": 81,
   "id": "f60de754",
   "metadata": {},
   "outputs": [],
   "source": [
    "from typing import Callable\n",
    "def add(a: float, b: float) -> float:\n",
    "    return (a+b)"
   ]
  },
  {
   "cell_type": "code",
   "execution_count": 82,
   "id": "b428a983",
   "metadata": {},
   "outputs": [],
   "source": [
    "def make_adder(a: float) -> Callable[[float], float]:\n",
    "    def add_inner(b: float) -> float:\n",
    "        return add(a, b)\n",
    "    return add_inner"
   ]
  },
  {
   "cell_type": "code",
   "execution_count": 83,
   "id": "8fb8c856",
   "metadata": {},
   "outputs": [],
   "source": [
    "add_num = make_adder(2)"
   ]
  },
  {
   "cell_type": "code",
   "execution_count": 84,
   "id": "25dbc97d",
   "metadata": {},
   "outputs": [
    {
     "data": {
      "text/plain": [
       "4"
      ]
     },
     "execution_count": 84,
     "metadata": {},
     "output_type": "execute_result"
    }
   ],
   "source": [
    "add_num(2)"
   ]
  },
  {
   "cell_type": "code",
   "execution_count": 85,
   "id": "453ec901",
   "metadata": {},
   "outputs": [],
   "source": [
    "# Optimising further our code..\n",
    "def make_adder(a: float) -> Callable[[float], float]:\n",
    "    return lambda b: add(a, b)"
   ]
  },
  {
   "cell_type": "code",
   "execution_count": 86,
   "id": "412b8732",
   "metadata": {},
   "outputs": [],
   "source": [
    "add_num = make_adder(20)"
   ]
  },
  {
   "cell_type": "code",
   "execution_count": 87,
   "id": "9b4031ea",
   "metadata": {},
   "outputs": [
    {
     "data": {
      "text/plain": [
       "54"
      ]
     },
     "execution_count": 87,
     "metadata": {},
     "output_type": "execute_result"
    }
   ],
   "source": [
    "add_num(34)"
   ]
  },
  {
   "cell_type": "markdown",
   "id": "85a12ff9",
   "metadata": {},
   "source": [
    "The working is as follows:\n",
    "\n",
    "1. We defined the add function, which is not exposed directly and is wrapped inside make_adder function, which we want to be a public function.\n",
    "\n",
    "2. We are passing a partial argument here of type float, in this case we named it \"a\".\n",
    "\n",
    "3. We then defined an inner function add_inner function which is another function takes parameter of type float again as \"b\".\n",
    "\n",
    "4. Now coming to the function calling part.\n",
    "\n",
    "------------------------------------------------------------------------------------------\n",
    "\n",
    "*add_num = make_adder(2) -> STEP 1*\n",
    "\n",
    "*Returns us the inner function object, note it is not yet called.*\n",
    "\n",
    "- *add_num(4) -> Output : 6 -> STEP 2*\n",
    "\n",
    "Why?\n",
    "\n",
    "\n",
    "The logic is more like make_adder says Hey! I will take a partial parameter and keep a track of it.*\n",
    "\n",
    "Therefore, STEP 1 gives us just the object of inner function while still storing the parameter \"a\". \n",
    "\n",
    "------------------------------------------------------------------------------------------\n",
    "\n",
    "In STEP 2, similar thing follows:\n",
    "\n",
    "Now, so far we just have the variable add_num from STEP 1, which stores the inner function add_inner.\n",
    "\n",
    "#### We definitely need a float output, enough with the Christopher Nolan's Inception thing.\n",
    "\n",
    "*add_num(4) -> This simply means call the inner function which takes another partial argument as \"b\" and calls the magical method add JK :D(not so magical). This is more like a concept of partial functions implemented in functools with additional usages..*\n"
   ]
  },
  {
   "cell_type": "code",
   "execution_count": 88,
   "id": "8504ee58",
   "metadata": {},
   "outputs": [],
   "source": [
    "# Implementing what is already implemented...\n",
    "from functools import partial\n",
    "\n",
    "# Let's again define add function. Just for explanation purpose..\n",
    "def add(a: float, b: float):\n",
    "    return (a+b)\n",
    "\n",
    "add_num = partial(add, 6)"
   ]
  },
  {
   "cell_type": "code",
   "execution_count": 89,
   "id": "357d9578",
   "metadata": {},
   "outputs": [
    {
     "data": {
      "text/plain": [
       "17"
      ]
     },
     "execution_count": 89,
     "metadata": {},
     "output_type": "execute_result"
    }
   ],
   "source": [
    "add_num(11)"
   ]
  },
  {
   "cell_type": "markdown",
   "id": "1a9c93a0",
   "metadata": {},
   "source": [
    "Voila!\n"
   ]
  },
  {
   "cell_type": "markdown",
   "id": "3fff8735",
   "metadata": {},
   "source": [
    "### Reusability With Partial Functions\n",
    "\n",
    "Below code snippets define some basic code reusability in terms of model building combined with partial functionality\n",
    "\n",
    "The two aspect it covers:-\n",
    "\n",
    "1. We first pass only the partial parameter to the partial function i.e \"model_name\" in our example.\n",
    "2. We then pass in multiple datasets to run our model onto which gets executed much faster..."
   ]
  },
  {
   "cell_type": "code",
   "execution_count": 90,
   "id": "afc95453",
   "metadata": {},
   "outputs": [],
   "source": [
    "def learner_partial(model, dataset):\n",
    "    print(f'Model learn {model=},  {dataset=}')\n",
    "    return \"Model\"\n"
   ]
  },
  {
   "cell_type": "code",
   "execution_count": 91,
   "id": "2c7c3129",
   "metadata": {},
   "outputs": [],
   "source": [
    "generate_model = partial(learner_partial, \"models.resnet34\")"
   ]
  },
  {
   "cell_type": "code",
   "execution_count": 92,
   "id": "87a7c4f0",
   "metadata": {},
   "outputs": [
    {
     "name": "stdout",
     "output_type": "stream",
     "text": [
      "Model learn model='models.resnet34',  dataset='d1'\n",
      "Model learn model='models.resnet34',  dataset='d2'\n"
     ]
    },
    {
     "data": {
      "text/plain": [
       "'Model'"
      ]
     },
     "execution_count": 92,
     "metadata": {},
     "output_type": "execute_result"
    }
   ],
   "source": [
    "# pass the arguments, only pass the remaining arguments\n",
    "generate_model(\"d1\")\n",
    "generate_model(\"d2\")"
   ]
  },
  {
   "cell_type": "code",
   "execution_count": 93,
   "id": "afc4c63b",
   "metadata": {},
   "outputs": [],
   "source": [
    "generate_model = partial(learner_partial, model = \"models.resnet18\")"
   ]
  },
  {
   "cell_type": "code",
   "execution_count": 94,
   "id": "1c873684",
   "metadata": {},
   "outputs": [
    {
     "name": "stdout",
     "output_type": "stream",
     "text": [
      "Model learn model='models.resnet18',  dataset='d3'\n"
     ]
    },
    {
     "data": {
      "text/plain": [
       "'Model'"
      ]
     },
     "execution_count": 94,
     "metadata": {},
     "output_type": "execute_result"
    }
   ],
   "source": [
    "generate_model(dataset = \"d3\")"
   ]
  },
  {
   "cell_type": "code",
   "execution_count": 95,
   "id": "beee1fc0",
   "metadata": {},
   "outputs": [],
   "source": [
    "generate_model = partial(learner_partial, dataset = \"d4\")"
   ]
  },
  {
   "cell_type": "code",
   "execution_count": 96,
   "id": "c123a847",
   "metadata": {},
   "outputs": [
    {
     "name": "stdout",
     "output_type": "stream",
     "text": [
      "Model learn model='m4',  dataset='d4'\n"
     ]
    },
    {
     "data": {
      "text/plain": [
       "'Model'"
      ]
     },
     "execution_count": 96,
     "metadata": {},
     "output_type": "execute_result"
    }
   ],
   "source": [
    "generate_model(\"m4\")"
   ]
  },
  {
   "cell_type": "markdown",
   "id": "1e85db24",
   "metadata": {},
   "source": [
    "#### Final Thoughts\n",
    "Python Standard Library has great tools for your disposal. The functools module has great ways to make your code cleaner, simpler, and sometimes even faster!"
   ]
  }
 ],
 "metadata": {
  "kernelspec": {
   "display_name": "Python 3 (ipykernel)",
   "language": "python",
   "name": "python3"
  },
  "language_info": {
   "codemirror_mode": {
    "name": "ipython",
    "version": 3
   },
   "file_extension": ".py",
   "mimetype": "text/x-python",
   "name": "python",
   "nbconvert_exporter": "python",
   "pygments_lexer": "ipython3",
   "version": "3.9.10"
  }
 },
 "nbformat": 4,
 "nbformat_minor": 5
}
